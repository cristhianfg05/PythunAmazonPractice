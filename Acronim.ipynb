{
 "cells": [
  {
   "cell_type": "markdown",
   "metadata": {},
   "source": [
    "<p style=\"text-align:right;font-size:0.9em\">\n",
    "Grau d'Enginyeria Informàtica. Algorísmica\n",
    "</p>"
   ]
  },
  {
   "cell_type": "markdown",
   "metadata": {},
   "source": [
    "<h1 style=\"padding:0.5em 0;font:Garamond;font-size:1-5em;color:#F90;background-color:#005\">\n",
    "Problema: Acrònim\n",
    "</h1>"
   ]
  },
  {
   "cell_type": "markdown",
   "metadata": {},
   "source": [
    "Un **acrònim** és una paraula formada al prendre les primeres lletres de les paraules d’una expressió (per exemple, l’acrònim ``RAM`` correspon a l'expressió ``random access memory``). \n",
    "\n",
    "+ Escriu una funció, ``acro``, que a partir d'una frase n'imprimeixi l’acrònim corresponent. Recorda que els acrònims, independentment de com l’usuari hagi entrat l'expressió, sempre són en majúscules.\n",
    "\n",
    "+ Pots suposar que l'usuari no entra ni signes de puntuació ni nombres"
   ]
  },
  {
   "cell_type": "code",
   "execution_count": 44,
   "metadata": {},
   "outputs": [],
   "source": [
    "# Substitueix la comanda pass per la teva solució\n",
    "\n",
    "def acro(frase):\n",
    "    result = [frase[0]]\n",
    "    espacio = False\n",
    "    for letra in frase:\n",
    "        if espacio:\n",
    "            result.append(letra)\n",
    "            espacio = False\n",
    "        if letra == \" \":\n",
    "            espacio = True\n",
    "    return result\n",
    "\n",
    "\n",
    "\n"
   ]
  },
  {
   "cell_type": "code",
   "execution_count": 45,
   "metadata": {},
   "outputs": [
    {
     "name": "stdout",
     "output_type": "stream",
     "text": [
      "['H', 'q', 't']\n"
     ]
    }
   ],
   "source": [
    "# Test de la funció\n",
    "\n",
    "print(acro(\"Hola que tal\"))  # Això hauria de retornar HQT"
   ]
  },
  {
   "cell_type": "markdown",
   "metadata": {},
   "source": [
    "<p style=\"text-align:right;font-size:0.9em\">\n",
    "&copy;Jordi Vitrià i Mireia Ribera\n",
    "</p>"
   ]
  }
 ],
 "metadata": {
  "kernelspec": {
   "display_name": "Python 3",
   "language": "python",
   "name": "python3"
  },
  "language_info": {
   "codemirror_mode": {
    "name": "ipython",
    "version": 3
   },
   "file_extension": ".py",
   "mimetype": "text/x-python",
   "name": "python",
   "nbconvert_exporter": "python",
   "pygments_lexer": "ipython3",
   "version": "3.10.2"
  }
 },
 "nbformat": 4,
 "nbformat_minor": 2
}
